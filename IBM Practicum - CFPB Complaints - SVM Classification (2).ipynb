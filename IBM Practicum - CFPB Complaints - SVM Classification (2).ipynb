{
 "cells": [
  {
   "cell_type": "markdown",
   "metadata": {},
   "source": [
    "### Import Relevant Libraries"
   ]
  },
  {
   "cell_type": "code",
   "execution_count": 64,
   "metadata": {},
   "outputs": [],
   "source": [
    "import numpy as np\n",
    "import pandas as pd\n",
    "import matplotlib.pyplot as plt\n",
    "from wordcloud import WordCloud\n",
    "import re\n",
    "import seaborn as sns\n",
    "sns.set()"
   ]
  },
  {
   "cell_type": "markdown",
   "metadata": {},
   "source": [
    "### Generate Master DF"
   ]
  },
  {
   "cell_type": "code",
   "execution_count": 2,
   "metadata": {},
   "outputs": [
    {
     "name": "stderr",
     "output_type": "stream",
     "text": [
      "/Users/seanmcalevey/anaconda3/lib/python3.7/site-packages/IPython/core/interactiveshell.py:3020: DtypeWarning: Columns (5,6,11,16) have mixed types. Specify dtype option on import or set low_memory=False.\n",
      "  interactivity=interactivity, compiler=compiler, result=result)\n"
     ]
    }
   ],
   "source": [
    "master_df = pd.read_csv('Consumer_Complaints.csv')"
   ]
  },
  {
   "cell_type": "markdown",
   "metadata": {},
   "source": [
    "### Preprocessing: dropping missing narratives, removing 'X's, and taking an even sample of 1,000(/10,000) narratives with timely and un-timely responses"
   ]
  },
  {
   "cell_type": "code",
   "execution_count": 3,
   "metadata": {},
   "outputs": [],
   "source": [
    "proc_df = master_df.dropna(subset=['Consumer complaint narrative'])"
   ]
  },
  {
   "cell_type": "code",
   "execution_count": 4,
   "metadata": {},
   "outputs": [],
   "source": [
    "#proc_df['Rapid response'] = (proc_df['Timely response?'] == 'Yes') & (proc_df['Consumer disputed?'] != 'Yes')"
   ]
  },
  {
   "cell_type": "code",
   "execution_count": 5,
   "metadata": {},
   "outputs": [],
   "source": [
    "#proc_df['Rapid response'].value_counts()"
   ]
  },
  {
   "cell_type": "code",
   "execution_count": 6,
   "metadata": {},
   "outputs": [],
   "source": [
    "new_df = proc_df[proc_df['Timely response?']=='Yes'].sample(10000)\n",
    "\n",
    "new_df2 = proc_df[proc_df['Timely response?']=='No'].sample(10000)\n",
    "\n",
    "df = new_df.append(new_df2)"
   ]
  },
  {
   "cell_type": "code",
   "execution_count": 73,
   "metadata": {},
   "outputs": [],
   "source": [
    "first_clean = [re.sub('[^A-WY-Za-z0-9]+', ' ', nar) for nar in df['Consumer complaint narrative']]\n",
    "\n",
    "#second_clean = [re.sub(\"\\'\", ' ', nar) for nar in first_clean]\n",
    "\n",
    "df['Cleaned narratives'] = [nar for nar in first_clean]"
   ]
  },
  {
   "cell_type": "code",
   "execution_count": 74,
   "metadata": {},
   "outputs": [],
   "source": [
    "from nltk import word_tokenize, pos_tag\n",
    "\n",
    "def nouns_adjs(text):\n",
    "    \n",
    "    # So far it seems like the best POS tags are: Nouns, Adjectives, Adverbs, Superlative Adjs\n",
    "    \n",
    "    \"\"\"Noun 'NN', Adjective 'JJ', Adverb 'RB', Superlative Adverb 'RBS', Superlative Adjective 'JJS', \n",
    "    Personal Pronoun 'PRP', Personal Pronoun Possessive 'PRP$' \"\"\"\n",
    "    \n",
    "    noun_adj = lambda pos: (pos[:2] == 'NN' or pos[:2] == 'JJ' or pos[:2] == 'RB' or pos[:2] == 'RBS'\n",
    "                            or pos[:2] == 'JJS')\n",
    "    tokenized = word_tokenize(text)\n",
    "    nouns_adjs = [word for (word, pos) in pos_tag(tokenized) if noun_adj(pos)]\n",
    "    output = ' '.join(nouns_adjs)\n",
    "    \n",
    "    return output"
   ]
  },
  {
   "cell_type": "code",
   "execution_count": 76,
   "metadata": {},
   "outputs": [],
   "source": [
    "df['Cleaned narratives'] = [nouns_adjs(nar) for nar in df['Cleaned narratives']]"
   ]
  },
  {
   "cell_type": "code",
   "execution_count": 77,
   "metadata": {},
   "outputs": [
    {
     "data": {
      "text/html": [
       "<div>\n",
       "<style scoped>\n",
       "    .dataframe tbody tr th:only-of-type {\n",
       "        vertical-align: middle;\n",
       "    }\n",
       "\n",
       "    .dataframe tbody tr th {\n",
       "        vertical-align: top;\n",
       "    }\n",
       "\n",
       "    .dataframe thead th {\n",
       "        text-align: right;\n",
       "    }\n",
       "</style>\n",
       "<table border=\"1\" class=\"dataframe\">\n",
       "  <thead>\n",
       "    <tr style=\"text-align: right;\">\n",
       "      <th></th>\n",
       "      <th>Date received</th>\n",
       "      <th>Product</th>\n",
       "      <th>Sub-product</th>\n",
       "      <th>Issue</th>\n",
       "      <th>Sub-issue</th>\n",
       "      <th>Consumer complaint narrative</th>\n",
       "      <th>Company public response</th>\n",
       "      <th>Company</th>\n",
       "      <th>State</th>\n",
       "      <th>ZIP code</th>\n",
       "      <th>Tags</th>\n",
       "      <th>Consumer consent provided?</th>\n",
       "      <th>Submitted via</th>\n",
       "      <th>Date sent to company</th>\n",
       "      <th>Company response to consumer</th>\n",
       "      <th>Timely response?</th>\n",
       "      <th>Consumer disputed?</th>\n",
       "      <th>Complaint ID</th>\n",
       "      <th>Cleaned narratives</th>\n",
       "    </tr>\n",
       "  </thead>\n",
       "  <tbody>\n",
       "    <tr>\n",
       "      <th>29655</th>\n",
       "      <td>08/15/2019</td>\n",
       "      <td>Credit reporting, credit repair services, or o...</td>\n",
       "      <td>Credit reporting</td>\n",
       "      <td>Incorrect information on your report</td>\n",
       "      <td>Account status incorrect</td>\n",
       "      <td>The below credit check happened on my account ...</td>\n",
       "      <td>Company has responded to the consumer and the ...</td>\n",
       "      <td>SYNCHRONY FINANCIAL</td>\n",
       "      <td>NJ</td>\n",
       "      <td>08901</td>\n",
       "      <td>NaN</td>\n",
       "      <td>Consent provided</td>\n",
       "      <td>Web</td>\n",
       "      <td>08/15/2019</td>\n",
       "      <td>Closed with non-monetary relief</td>\n",
       "      <td>Yes</td>\n",
       "      <td>NaN</td>\n",
       "      <td>3342824</td>\n",
       "      <td>below credit check account not ever bank apply...</td>\n",
       "    </tr>\n",
       "    <tr>\n",
       "      <th>664983</th>\n",
       "      <td>02/22/2017</td>\n",
       "      <td>Bank account or service</td>\n",
       "      <td>Savings account</td>\n",
       "      <td>Account opening, closing, or management</td>\n",
       "      <td>NaN</td>\n",
       "      <td>Consumer Finance, I contacted Navy Federal Cre...</td>\n",
       "      <td>Company believes it acted appropriately as aut...</td>\n",
       "      <td>NAVY FEDERAL CREDIT UNION</td>\n",
       "      <td>VA</td>\n",
       "      <td>221XX</td>\n",
       "      <td>NaN</td>\n",
       "      <td>Consent provided</td>\n",
       "      <td>Web</td>\n",
       "      <td>02/22/2017</td>\n",
       "      <td>Closed with explanation</td>\n",
       "      <td>Yes</td>\n",
       "      <td>Yes</td>\n",
       "      <td>2355148</td>\n",
       "      <td>Consumer Finance Navy Federal Credit Union NFC...</td>\n",
       "    </tr>\n",
       "    <tr>\n",
       "      <th>470797</th>\n",
       "      <td>12/09/2017</td>\n",
       "      <td>Money transfer, virtual currency, or money ser...</td>\n",
       "      <td>Virtual currency</td>\n",
       "      <td>Other transaction problem</td>\n",
       "      <td>NaN</td>\n",
       "      <td>The situation is detailed below. \\n\\nOn XXXX X...</td>\n",
       "      <td>NaN</td>\n",
       "      <td>Coinbase, Inc.</td>\n",
       "      <td>IL</td>\n",
       "      <td>NaN</td>\n",
       "      <td>NaN</td>\n",
       "      <td>Consent provided</td>\n",
       "      <td>Web</td>\n",
       "      <td>12/09/2017</td>\n",
       "      <td>Closed with explanation</td>\n",
       "      <td>Yes</td>\n",
       "      <td>NaN</td>\n",
       "      <td>2750627</td>\n",
       "      <td>situation money bank account Bank conversation...</td>\n",
       "    </tr>\n",
       "    <tr>\n",
       "      <th>919626</th>\n",
       "      <td>10/27/2015</td>\n",
       "      <td>Debt collection</td>\n",
       "      <td>Medical</td>\n",
       "      <td>Disclosure verification of debt</td>\n",
       "      <td>Right to dispute notice not received</td>\n",
       "      <td>The debt is from XX/XX/XXXX-XX/XX/XXXX past st...</td>\n",
       "      <td>NaN</td>\n",
       "      <td>Columbia Collection Service, Inc.</td>\n",
       "      <td>OR</td>\n",
       "      <td>970XX</td>\n",
       "      <td>NaN</td>\n",
       "      <td>Consent provided</td>\n",
       "      <td>Web</td>\n",
       "      <td>10/27/2015</td>\n",
       "      <td>Closed with explanation</td>\n",
       "      <td>Yes</td>\n",
       "      <td>Yes</td>\n",
       "      <td>1626270</td>\n",
       "      <td>debt past statute never bill now current month...</td>\n",
       "    </tr>\n",
       "    <tr>\n",
       "      <th>245472</th>\n",
       "      <td>10/20/2018</td>\n",
       "      <td>Credit reporting, credit repair services, or o...</td>\n",
       "      <td>Credit reporting</td>\n",
       "      <td>Improper use of your report</td>\n",
       "      <td>Reporting company used your report improperly</td>\n",
       "      <td>I GOT A LOAN FROM ONE MAIN AND THEY PULLED MY ...</td>\n",
       "      <td>NaN</td>\n",
       "      <td>ONEMAIN FINANCIAL HOLDINGS, LLC.</td>\n",
       "      <td>IL</td>\n",
       "      <td>604XX</td>\n",
       "      <td>NaN</td>\n",
       "      <td>Consent provided</td>\n",
       "      <td>Web</td>\n",
       "      <td>10/20/2018</td>\n",
       "      <td>Closed with non-monetary relief</td>\n",
       "      <td>Yes</td>\n",
       "      <td>NaN</td>\n",
       "      <td>3051771</td>\n",
       "      <td>LOAN FROM ONE MAIN AND THEY PULLED MY CREDIT T...</td>\n",
       "    </tr>\n",
       "  </tbody>\n",
       "</table>\n",
       "</div>"
      ],
      "text/plain": [
       "       Date received                                            Product  \\\n",
       "29655     08/15/2019  Credit reporting, credit repair services, or o...   \n",
       "664983    02/22/2017                            Bank account or service   \n",
       "470797    12/09/2017  Money transfer, virtual currency, or money ser...   \n",
       "919626    10/27/2015                                    Debt collection   \n",
       "245472    10/20/2018  Credit reporting, credit repair services, or o...   \n",
       "\n",
       "             Sub-product                                    Issue  \\\n",
       "29655   Credit reporting     Incorrect information on your report   \n",
       "664983   Savings account  Account opening, closing, or management   \n",
       "470797  Virtual currency                Other transaction problem   \n",
       "919626           Medical          Disclosure verification of debt   \n",
       "245472  Credit reporting              Improper use of your report   \n",
       "\n",
       "                                            Sub-issue  \\\n",
       "29655                        Account status incorrect   \n",
       "664983                                            NaN   \n",
       "470797                                            NaN   \n",
       "919626           Right to dispute notice not received   \n",
       "245472  Reporting company used your report improperly   \n",
       "\n",
       "                             Consumer complaint narrative  \\\n",
       "29655   The below credit check happened on my account ...   \n",
       "664983  Consumer Finance, I contacted Navy Federal Cre...   \n",
       "470797  The situation is detailed below. \\n\\nOn XXXX X...   \n",
       "919626  The debt is from XX/XX/XXXX-XX/XX/XXXX past st...   \n",
       "245472  I GOT A LOAN FROM ONE MAIN AND THEY PULLED MY ...   \n",
       "\n",
       "                                  Company public response  \\\n",
       "29655   Company has responded to the consumer and the ...   \n",
       "664983  Company believes it acted appropriately as aut...   \n",
       "470797                                                NaN   \n",
       "919626                                                NaN   \n",
       "245472                                                NaN   \n",
       "\n",
       "                                  Company State ZIP code Tags  \\\n",
       "29655                 SYNCHRONY FINANCIAL    NJ    08901  NaN   \n",
       "664983          NAVY FEDERAL CREDIT UNION    VA    221XX  NaN   \n",
       "470797                     Coinbase, Inc.    IL      NaN  NaN   \n",
       "919626  Columbia Collection Service, Inc.    OR    970XX  NaN   \n",
       "245472   ONEMAIN FINANCIAL HOLDINGS, LLC.    IL    604XX  NaN   \n",
       "\n",
       "       Consumer consent provided? Submitted via Date sent to company  \\\n",
       "29655            Consent provided           Web           08/15/2019   \n",
       "664983           Consent provided           Web           02/22/2017   \n",
       "470797           Consent provided           Web           12/09/2017   \n",
       "919626           Consent provided           Web           10/27/2015   \n",
       "245472           Consent provided           Web           10/20/2018   \n",
       "\n",
       "           Company response to consumer Timely response? Consumer disputed?  \\\n",
       "29655   Closed with non-monetary relief              Yes                NaN   \n",
       "664983          Closed with explanation              Yes                Yes   \n",
       "470797          Closed with explanation              Yes                NaN   \n",
       "919626          Closed with explanation              Yes                Yes   \n",
       "245472  Closed with non-monetary relief              Yes                NaN   \n",
       "\n",
       "        Complaint ID                                 Cleaned narratives  \n",
       "29655        3342824  below credit check account not ever bank apply...  \n",
       "664983       2355148  Consumer Finance Navy Federal Credit Union NFC...  \n",
       "470797       2750627  situation money bank account Bank conversation...  \n",
       "919626       1626270  debt past statute never bill now current month...  \n",
       "245472       3051771  LOAN FROM ONE MAIN AND THEY PULLED MY CREDIT T...  "
      ]
     },
     "execution_count": 77,
     "metadata": {},
     "output_type": "execute_result"
    }
   ],
   "source": [
    "df.head()"
   ]
  },
  {
   "cell_type": "code",
   "execution_count": 78,
   "metadata": {},
   "outputs": [],
   "source": [
    "# from textblob import TextBlob\n",
    "\n",
    "# df['Subjectivity'] = [TextBlob(blob).subjectivity for blob in df['Cleaned narratives'] ]\n",
    "\n",
    "# df['Polarity'] = [TextBlob(blob).polarity for blob in df['Cleaned narratives']]"
   ]
  },
  {
   "cell_type": "markdown",
   "metadata": {},
   "source": [
    "### Train_test_split the data"
   ]
  },
  {
   "cell_type": "code",
   "execution_count": 84,
   "metadata": {},
   "outputs": [],
   "source": [
    "from sklearn.model_selection import train_test_split\n",
    "\n",
    "X_train, X_test, y_train, y_test = train_test_split(df['Cleaned narratives'], \n",
    "                                                       df['Timely response?'], random_state=42)"
   ]
  },
  {
   "cell_type": "markdown",
   "metadata": {},
   "source": [
    "### Tfidf Vectorize"
   ]
  },
  {
   "cell_type": "code",
   "execution_count": 85,
   "metadata": {},
   "outputs": [],
   "source": [
    "from sklearn.feature_extraction.text import TfidfVectorizer\n",
    "from sklearn.feature_extraction.text import CountVectorizer\n",
    "from sklearn.model_selection import KFold\n",
    "from sklearn.model_selection import StratifiedKFold\n",
    "from sklearn.model_selection import GridSearchCV\n",
    "from sklearn.pipeline import make_pipeline\n",
    "from sklearn.preprocessing import StandardScaler\n",
    "from sklearn.metrics import roc_auc_score\n",
    "from sklearn.metrics import confusion_matrix\n",
    "\n",
    "#vectorizer = CountVectorizer(stop_words='english', ngram_range=(1,3), min_df=5)\n",
    "\n",
    "vectorizer = TfidfVectorizer(stop_words='english', ngram_range=(1,3), min_df=3)\n",
    "\n",
    "X_train = vectorizer.fit_transform(X_train)\n",
    "\n",
    "X_test = vectorizer.transform(X_test)\n",
    "\n",
    "# X_train['Cleaned narratives'] = vectorizer.fit_transform(X_train['Cleaned narratives'])\n",
    "\n",
    "# X_test['Cleaned narratives'] = vectorizer.transform(X_test['Cleaned narratives'])"
   ]
  },
  {
   "cell_type": "code",
   "execution_count": 86,
   "metadata": {},
   "outputs": [],
   "source": [
    "# from sklearn.decomposition import TruncatedSVD\n",
    "\n",
    "# n_components = 1000\n",
    "\n",
    "# svd = TruncatedSVD(n_components)\n",
    "    \n",
    "# X_train_nar = svd.fit_transform(X_train)\n",
    "\n",
    "# X_test_nar = svd.transform(X_test)\n",
    "    \n",
    "# explained_variance_1 = round(100*sum(svd.explained_variance_ratio_), 3)\n",
    "\n",
    "# print('Retained info after SVD: ' + str(explained_variance_1) + '%')"
   ]
  },
  {
   "cell_type": "code",
   "execution_count": 87,
   "metadata": {},
   "outputs": [],
   "source": [
    "# X_train = np.concatenate((X_train_nar, np.asarray(X_train[['Subjectivity', 'Polarity']])), axis=1)\n",
    "\n",
    "# X_test = np.concatenate((X_test_nar, np.asarray(X_test[['Subjectivity', 'Polarity']])), axis=1)"
   ]
  },
  {
   "cell_type": "markdown",
   "metadata": {},
   "source": [
    "### Support Vector Classifier"
   ]
  },
  {
   "cell_type": "code",
   "execution_count": 88,
   "metadata": {
    "scrolled": false
   },
   "outputs": [
    {
     "name": "stdout",
     "output_type": "stream",
     "text": [
      "Best param: {'svc__C': 0.4}\n",
      "Train score: 0.8243333333333334\n",
      "Test score: 0.68\n"
     ]
    }
   ],
   "source": [
    "from sklearn.svm import SVC\n",
    "\n",
    "svc_pipe = make_pipeline(SVC(kernel='linear'))\n",
    "\n",
    "param_grid = {'svc__C': [0.1, 0.2, 0.3, 0.4, 0.45, 0.5, 0.55, 0.6, 0.7, 0.8, 0.9, 1, 2, 5]}\n",
    "\n",
    "cv_input = StratifiedKFold(n_splits=10, shuffle=True, random_state=42)\n",
    "\n",
    "grid = GridSearchCV(svc_pipe, param_grid, cv=cv_input).fit(X_train, y_train)\n",
    "\n",
    "print(f'Best param: {grid.best_params_}')\n",
    "\n",
    "print(f'Train score: {grid.score(X_train, y_train)}')\n",
    "\n",
    "print(f'Test score: {grid.score(X_test, y_test)}')"
   ]
  },
  {
   "cell_type": "markdown",
   "metadata": {},
   "source": [
    "### Random Forest Classifier"
   ]
  },
  {
   "cell_type": "code",
   "execution_count": 40,
   "metadata": {},
   "outputs": [
    {
     "name": "stdout",
     "output_type": "stream",
     "text": [
      "Train score: 0.9993333333333333\n",
      "Test score: 0.702\n"
     ]
    }
   ],
   "source": [
    "from sklearn.ensemble import RandomForestClassifier\n",
    "\n",
    "rf_clf = RandomForestClassifier(n_estimators=500)\n",
    "\n",
    "rf_clf.fit(X_train, y_train)\n",
    "\n",
    "print(f'Train score: {rf_clf.score(X_train, y_train)}')\n",
    "\n",
    "print(f'Test score: {rf_clf.score(X_test, y_test)}')"
   ]
  },
  {
   "cell_type": "markdown",
   "metadata": {},
   "source": [
    "### Gradient Boosting Classifier"
   ]
  },
  {
   "cell_type": "code",
   "execution_count": 41,
   "metadata": {},
   "outputs": [
    {
     "name": "stdout",
     "output_type": "stream",
     "text": [
      "Best params: {'gradientboostingclassifier__learning_rate': 0.075}\n",
      "Train score: 0.767\n",
      "Test score: 0.684\n"
     ]
    }
   ],
   "source": [
    "from sklearn.ensemble import GradientBoostingClassifier\n",
    "\n",
    "pipe = make_pipeline(GradientBoostingClassifier(n_estimators=500))\n",
    "\n",
    "param_grid = {'gradientboostingclassifier__learning_rate': [0.025, 0.05, 0.075, 0.1, 0.2, 0.5]}\n",
    "\n",
    "cv_input = StratifiedKFold(n_splits=10, shuffle=True, random_state=42)\n",
    "\n",
    "grid = GridSearchCV(pipe, param_grid, cv=cv_input).fit(X_train, y_train)\n",
    "\n",
    "print(f'Best params: {grid.best_params_}')\n",
    "\n",
    "print(f'Train score: {grid.score(X_train, y_train)}')\n",
    "\n",
    "print(f'Test score: {grid.score(X_test, y_test)}')"
   ]
  },
  {
   "cell_type": "markdown",
   "metadata": {},
   "source": [
    "### Bernoulli Naive Bayes Classifier"
   ]
  },
  {
   "cell_type": "code",
   "execution_count": 42,
   "metadata": {},
   "outputs": [
    {
     "name": "stdout",
     "output_type": "stream",
     "text": [
      "Best params: {'bernoullinb__alpha': 0.8}\n",
      "Train score: 0.855\n",
      "Test score: 0.703\n"
     ]
    }
   ],
   "source": [
    "from sklearn.naive_bayes import BernoulliNB\n",
    "\n",
    "pipe = make_pipeline(BernoulliNB())\n",
    "\n",
    "param_grid = {'bernoullinb__alpha': [0.2, 0.3, 0.35, 0.4, 0.5, 0.6, 0.7, 0.8]}\n",
    "\n",
    "cv_input = StratifiedKFold(n_splits=20, shuffle=True, random_state=42)\n",
    "\n",
    "grid = GridSearchCV(pipe, param_grid, cv=cv_input).fit(X_train, y_train)\n",
    "\n",
    "#bernoulli.fit(X_train, y_train)\n",
    "\n",
    "print(f'Best params: {grid.best_params_}')\n",
    "\n",
    "print(f'Train score: {grid.score(X_train, y_train)}')\n",
    "\n",
    "print(f'Test score: {grid.score(X_test, y_test)}')"
   ]
  },
  {
   "cell_type": "markdown",
   "metadata": {},
   "source": [
    "### AdaBoost Classifier"
   ]
  },
  {
   "cell_type": "code",
   "execution_count": 44,
   "metadata": {},
   "outputs": [
    {
     "name": "stdout",
     "output_type": "stream",
     "text": [
      "Best params: {'adaboostclassifier__learning_rate': 0.07}\n",
      "Train score: 0.7273333333333334\n",
      "Test score: 0.682\n"
     ]
    }
   ],
   "source": [
    "from sklearn.ensemble import AdaBoostClassifier\n",
    "\n",
    "pipe = make_pipeline(AdaBoostClassifier(n_estimators=500))\n",
    "\n",
    "param_grid = {'adaboostclassifier__learning_rate': [0.01, 0.03, 0.05, 0.07, 0.09, 0.1, 0.2, 0.5]}\n",
    "\n",
    "cv_input = StratifiedKFold(n_splits=5, shuffle=True, random_state=42)\n",
    "\n",
    "grid = GridSearchCV(pipe, param_grid, cv=cv_input).fit(X_train, y_train)\n",
    "\n",
    "print(f'Best params: {grid.best_params_}')\n",
    "\n",
    "print(f'Train score: {grid.score(X_train, y_train)}')\n",
    "\n",
    "print(f'Test score: {grid.score(X_test, y_test)}')"
   ]
  },
  {
   "cell_type": "markdown",
   "metadata": {},
   "source": [
    "### XGB Classifier"
   ]
  },
  {
   "cell_type": "code",
   "execution_count": 45,
   "metadata": {
    "scrolled": true
   },
   "outputs": [
    {
     "name": "stdout",
     "output_type": "stream",
     "text": [
      "Best params: {'xgbclassifier__eta': 0.05}\n",
      "Train score: 0.7736666666666666\n",
      "Test score: 0.665\n"
     ]
    }
   ],
   "source": [
    "from xgboost import XGBClassifier\n",
    "\n",
    "pipe = make_pipeline(XGBClassifier())\n",
    "\n",
    "param_grid = {'xgbclassifier__eta': [0.01, 0.025, 0.05, 0.075, 0.1, 0.2]}\n",
    "\n",
    "cv_input = StratifiedKFold(n_splits=10, shuffle=True, random_state=42)\n",
    "\n",
    "grid = GridSearchCV(pipe, param_grid, cv=cv_input).fit(X_train, y_train)\n",
    "\n",
    "print(f'Best params: {grid.best_params_}')\n",
    "\n",
    "print(f'Train score: {grid.score(X_train, y_train)}')\n",
    "\n",
    "print(f'Test score: {grid.score(X_test, y_test)}')"
   ]
  },
  {
   "cell_type": "code",
   "execution_count": 595,
   "metadata": {},
   "outputs": [],
   "source": [
    "# import pickle\n",
    "\n",
    "# filename = 'XGBClassifier'\n",
    "\n",
    "# outfile = open(filename, 'wb')"
   ]
  },
  {
   "cell_type": "code",
   "execution_count": 596,
   "metadata": {},
   "outputs": [],
   "source": [
    "# pickle.dump(grid, outfile)\n",
    "\n",
    "# outfile.close()"
   ]
  },
  {
   "cell_type": "code",
   "execution_count": null,
   "metadata": {},
   "outputs": [],
   "source": []
  }
 ],
 "metadata": {
  "kernelspec": {
   "display_name": "Python 3",
   "language": "python",
   "name": "python3"
  },
  "language_info": {
   "codemirror_mode": {
    "name": "ipython",
    "version": 3
   },
   "file_extension": ".py",
   "mimetype": "text/x-python",
   "name": "python",
   "nbconvert_exporter": "python",
   "pygments_lexer": "ipython3",
   "version": "3.7.1"
  }
 },
 "nbformat": 4,
 "nbformat_minor": 2
}
